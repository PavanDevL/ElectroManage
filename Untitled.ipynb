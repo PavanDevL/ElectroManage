{
 "cells": [
  {
   "cell_type": "code",
   "execution_count": 86,
   "id": "da8f4d21",
   "metadata": {},
   "outputs": [],
   "source": [
    "import pandas as pd\n",
    "import numpy as nd\n",
    "import matplotlib.pyplot as plt\n",
    "import csv\n",
    "from scipy.optimize import curve_fit\n",
    "from matplotlib import pyplot\n",
    "from sklearn import metrics"
   ]
  },
  {
   "cell_type": "code",
   "execution_count": 2,
   "id": "dc72d41c",
   "metadata": {},
   "outputs": [],
   "source": [
    "dataset = pd.read_csv(\"Electricity_2022.csv\")"
   ]
  },
  {
   "cell_type": "code",
   "execution_count": 3,
   "id": "d657711b",
   "metadata": {},
   "outputs": [
    {
     "data": {
      "text/html": [
       "<div>\n",
       "<style scoped>\n",
       "    .dataframe tbody tr th:only-of-type {\n",
       "        vertical-align: middle;\n",
       "    }\n",
       "\n",
       "    .dataframe tbody tr th {\n",
       "        vertical-align: top;\n",
       "    }\n",
       "\n",
       "    .dataframe thead th {\n",
       "        text-align: right;\n",
       "    }\n",
       "</style>\n",
       "<table border=\"1\" class=\"dataframe\">\n",
       "  <thead>\n",
       "    <tr style=\"text-align: right;\">\n",
       "      <th></th>\n",
       "      <th>Day</th>\n",
       "      <th>Daily Elec Consumption in Bangalore And nearby regions</th>\n",
       "    </tr>\n",
       "  </thead>\n",
       "  <tbody>\n",
       "    <tr>\n",
       "      <th>count</th>\n",
       "      <td>365.000000</td>\n",
       "      <td>365.000000</td>\n",
       "    </tr>\n",
       "    <tr>\n",
       "      <th>mean</th>\n",
       "      <td>183.000000</td>\n",
       "      <td>98380.821918</td>\n",
       "    </tr>\n",
       "    <tr>\n",
       "      <th>std</th>\n",
       "      <td>105.510663</td>\n",
       "      <td>13061.779004</td>\n",
       "    </tr>\n",
       "    <tr>\n",
       "      <th>min</th>\n",
       "      <td>1.000000</td>\n",
       "      <td>71000.000000</td>\n",
       "    </tr>\n",
       "    <tr>\n",
       "      <th>25%</th>\n",
       "      <td>92.000000</td>\n",
       "      <td>88000.000000</td>\n",
       "    </tr>\n",
       "    <tr>\n",
       "      <th>50%</th>\n",
       "      <td>183.000000</td>\n",
       "      <td>97000.000000</td>\n",
       "    </tr>\n",
       "    <tr>\n",
       "      <th>75%</th>\n",
       "      <td>274.000000</td>\n",
       "      <td>107000.000000</td>\n",
       "    </tr>\n",
       "    <tr>\n",
       "      <th>max</th>\n",
       "      <td>365.000000</td>\n",
       "      <td>131000.000000</td>\n",
       "    </tr>\n",
       "  </tbody>\n",
       "</table>\n",
       "</div>"
      ],
      "text/plain": [
       "              Day  Daily Elec Consumption in Bangalore And nearby regions\n",
       "count  365.000000                                         365.000000     \n",
       "mean   183.000000                                       98380.821918     \n",
       "std    105.510663                                       13061.779004     \n",
       "min      1.000000                                       71000.000000     \n",
       "25%     92.000000                                       88000.000000     \n",
       "50%    183.000000                                       97000.000000     \n",
       "75%    274.000000                                      107000.000000     \n",
       "max    365.000000                                      131000.000000     "
      ]
     },
     "execution_count": 3,
     "metadata": {},
     "output_type": "execute_result"
    }
   ],
   "source": [
    "dataset.describe()"
   ]
  },
  {
   "cell_type": "code",
   "execution_count": 4,
   "id": "4baab8bc",
   "metadata": {},
   "outputs": [
    {
     "name": "stdout",
     "output_type": "stream",
     "text": [
      "<class 'pandas.core.frame.DataFrame'>\n",
      "RangeIndex: 365 entries, 0 to 364\n",
      "Data columns (total 2 columns):\n",
      " #   Column                                                  Non-Null Count  Dtype\n",
      "---  ------                                                  --------------  -----\n",
      " 0   Day                                                     365 non-null    int64\n",
      " 1   Daily Elec Consumption in Bangalore And nearby regions  365 non-null    int64\n",
      "dtypes: int64(2)\n",
      "memory usage: 5.8 KB\n"
     ]
    }
   ],
   "source": [
    "dataset.info()"
   ]
  },
  {
   "cell_type": "code",
   "execution_count": 9,
   "id": "20e10110",
   "metadata": {},
   "outputs": [
    {
     "data": {
      "text/plain": [
       "[<matplotlib.lines.Line2D at 0x1d53d982b00>]"
      ]
     },
     "execution_count": 9,
     "metadata": {},
     "output_type": "execute_result"
    },
    {
     "data": {
      "image/png": "[encoded data removed]",
      "text/plain": [
       "<Figure size 432x288 with 1 Axes>"
      ]
     },
     "metadata": {
      "needs_background": "light"
     },
     "output_type": "display_data"
    }
   ],
   "source": [
    "plt.plot(dataset['Day'],dataset['Daily Elec Consumption in Bangalore And nearby regions'])"
   ]
  },
  {
   "cell_type": "code",
   "execution_count": 7,
   "id": "d7865e4f",
   "metadata": {},
   "outputs": [
    {
     "data": {
      "text/plain": [
       "Day                                                         183.000000\n",
       "Daily Elec Consumption in Bangalore And nearby regions    98380.821918\n",
       "dtype: float64"
      ]
     },
     "execution_count": 7,
     "metadata": {},
     "output_type": "execute_result"
    }
   ],
   "source": [
    "dataset.mean()"
   ]
  },
  {
   "cell_type": "code",
   "execution_count": 16,
   "id": "567717fe",
   "metadata": {},
   "outputs": [
    {
     "data": {
      "text/html": [
       "<div>\n",
       "<style scoped>\n",
       "    .dataframe tbody tr th:only-of-type {\n",
       "        vertical-align: middle;\n",
       "    }\n",
       "\n",
       "    .dataframe tbody tr th {\n",
       "        vertical-align: top;\n",
       "    }\n",
       "\n",
       "    .dataframe thead th {\n",
       "        text-align: right;\n",
       "    }\n",
       "</style>\n",
       "<table border=\"1\" class=\"dataframe\">\n",
       "  <thead>\n",
       "    <tr style=\"text-align: right;\">\n",
       "      <th></th>\n",
       "      <th>Day</th>\n",
       "      <th>Daily Elec Consumption in Bangalore And nearby regions</th>\n",
       "    </tr>\n",
       "  </thead>\n",
       "  <tbody>\n",
       "    <tr>\n",
       "      <th>0</th>\n",
       "      <td>1</td>\n",
       "      <td>94000</td>\n",
       "    </tr>\n",
       "    <tr>\n",
       "      <th>1</th>\n",
       "      <td>2</td>\n",
       "      <td>94000</td>\n",
       "    </tr>\n",
       "    <tr>\n",
       "      <th>2</th>\n",
       "      <td>3</td>\n",
       "      <td>101000</td>\n",
       "    </tr>\n",
       "    <tr>\n",
       "      <th>3</th>\n",
       "      <td>4</td>\n",
       "      <td>103000</td>\n",
       "    </tr>\n",
       "    <tr>\n",
       "      <th>4</th>\n",
       "      <td>5</td>\n",
       "      <td>105000</td>\n",
       "    </tr>\n",
       "    <tr>\n",
       "      <th>5</th>\n",
       "      <td>6</td>\n",
       "      <td>105000</td>\n",
       "    </tr>\n",
       "  </tbody>\n",
       "</table>\n",
       "</div>"
      ],
      "text/plain": [
       "   Day  Daily Elec Consumption in Bangalore And nearby regions\n",
       "0    1                                              94000     \n",
       "1    2                                              94000     \n",
       "2    3                                             101000     \n",
       "3    4                                             103000     \n",
       "4    5                                             105000     \n",
       "5    6                                             105000     "
      ]
     },
     "execution_count": 16,
     "metadata": {},
     "output_type": "execute_result"
    }
   ],
   "source": [
    "dataset.head(6)"
   ]
  },
  {
   "cell_type": "code",
   "execution_count": 34,
   "id": "4d59ce59",
   "metadata": {},
   "outputs": [],
   "source": [
    "original_consumption = dataset['Daily Elec Consumption in Bangalore And nearby regions'].tolist()"
   ]
  },
  {
   "cell_type": "code",
   "execution_count": 35,
   "id": "fc69ae7e",
   "metadata": {},
   "outputs": [
    {
     "data": {
      "text/plain": [
       "[94000,\n",
       " 94000,\n",
       " 101000,\n",
       " 103000,\n",
       " 105000,\n",
       " 105000,\n",
       " 106000,\n",
       " 103000,\n",
       " 97000,\n",
       " 104000,\n",
       " 106000,\n",
       " 106000,\n",
       " 106000,\n",
       " 106000,\n",
       " 99000,\n",
       " 97000,\n",
       " 104000,\n",
       " 105000,\n",
       " 106000,\n",
       " 107000,\n",
       " 108000,\n",
       " 107000,\n",
       " 99000,\n",
       " 107000,\n",
       " 110000,\n",
       " 102000,\n",
       " 105000,\n",
       " 109000,\n",
       " 107000,\n",
       " 102000,\n",
       " 108000,\n",
       " 110000,\n",
       " 110000,\n",
       " 112000,\n",
       " 112000,\n",
       " 112000,\n",
       " 106000,\n",
       " 113000,\n",
       " 115000,\n",
       " 115000,\n",
       " 115000,\n",
       " 113000,\n",
       " 114000,\n",
       " 108000,\n",
       " 114000,\n",
       " 116000,\n",
       " 116000,\n",
       " 114000,\n",
       " 116000,\n",
       " 114000,\n",
       " 107000,\n",
       " 114000,\n",
       " 119000,\n",
       " 119000,\n",
       " 120000,\n",
       " 120000,\n",
       " 118000,\n",
       " 111000,\n",
       " 117000,\n",
       " 118000,\n",
       " 119000,\n",
       " 115000,\n",
       " 115000,\n",
       " 116000,\n",
       " 106000,\n",
       " 116000,\n",
       " 118000,\n",
       " 122000,\n",
       " 121000,\n",
       " 122000,\n",
       " 120000,\n",
       " 110000,\n",
       " 121000,\n",
       " 125000,\n",
       " 124000,\n",
       " 127000,\n",
       " 122000,\n",
       " 120000,\n",
       " 108000,\n",
       " 117000,\n",
       " 112000,\n",
       " 117000,\n",
       " 115000,\n",
       " 118000,\n",
       " 117000,\n",
       " 109000,\n",
       " 119000,\n",
       " 122000,\n",
       " 127000,\n",
       " 126000,\n",
       " 126000,\n",
       " 111000,\n",
       " 107000,\n",
       " 123000,\n",
       " 125000,\n",
       " 125000,\n",
       " 127000,\n",
       " 131000,\n",
       " 127000,\n",
       " 119000,\n",
       " 126000,\n",
       " 128000,\n",
       " 123000,\n",
       " 110000,\n",
       " 97000,\n",
       " 101000,\n",
       " 101000,\n",
       " 97000,\n",
       " 97000,\n",
       " 96000,\n",
       " 104000,\n",
       " 108000,\n",
       " 107000,\n",
       " 107000,\n",
       " 114000,\n",
       " 114000,\n",
       " 118000,\n",
       " 121000,\n",
       " 115000,\n",
       " 112000,\n",
       " 112000,\n",
       " 110000,\n",
       " 110000,\n",
       " 103000,\n",
       " 103000,\n",
       " 95000,\n",
       " 92000,\n",
       " 92000,\n",
       " 92000,\n",
       " 88000,\n",
       " 88000,\n",
       " 86000,\n",
       " 90000,\n",
       " 90000,\n",
       " 80000,\n",
       " 80000,\n",
       " 86000,\n",
       " 82000,\n",
       " 83000,\n",
       " 82000,\n",
       " 81000,\n",
       " 73000,\n",
       " 88000,\n",
       " 95000,\n",
       " 98000,\n",
       " 99000,\n",
       " 97000,\n",
       " 97000,\n",
       " 92000,\n",
       " 106000,\n",
       " 106000,\n",
       " 106000,\n",
       " 106000,\n",
       " 106000,\n",
       " 97000,\n",
       " 87000,\n",
       " 89000,\n",
       " 94000,\n",
       " 97000,\n",
       " 100000,\n",
       " 104000,\n",
       " 102000,\n",
       " 95000,\n",
       " 102000,\n",
       " 106000,\n",
       " 96000,\n",
       " 97000,\n",
       " 92000,\n",
       " 88000,\n",
       " 79000,\n",
       " 89000,\n",
       " 90000,\n",
       " 90000,\n",
       " 93000,\n",
       " 96000,\n",
       " 92000,\n",
       " 83000,\n",
       " 97000,\n",
       " 102000,\n",
       " 104000,\n",
       " 102000,\n",
       " 98000,\n",
       " 93000,\n",
       " 85000,\n",
       " 93000,\n",
       " 92000,\n",
       " 90000,\n",
       " 87000,\n",
       " 89000,\n",
       " 84000,\n",
       " 77000,\n",
       " 85000,\n",
       " 87000,\n",
       " 88000,\n",
       " 88000,\n",
       " 89000,\n",
       " 86000,\n",
       " 75000,\n",
       " 85000,\n",
       " 90000,\n",
       " 93000,\n",
       " 92000,\n",
       " 95000,\n",
       " 92000,\n",
       " 81000,\n",
       " 94000,\n",
       " 98000,\n",
       " 96000,\n",
       " 91000,\n",
       " 93000,\n",
       " 89000,\n",
       " 76000,\n",
       " 85000,\n",
       " 83000,\n",
       " 85000,\n",
       " 86000,\n",
       " 87000,\n",
       " 81000,\n",
       " 72000,\n",
       " 81000,\n",
       " 82000,\n",
       " 85000,\n",
       " 87000,\n",
       " 89000,\n",
       " 88000,\n",
       " 81000,\n",
       " 80000,\n",
       " 95000,\n",
       " 100000,\n",
       " 101000,\n",
       " 103000,\n",
       " 101000,\n",
       " 88000,\n",
       " 96000,\n",
       " 98000,\n",
       " 99000,\n",
       " 96000,\n",
       " 93000,\n",
       " 85000,\n",
       " 77000,\n",
       " 86000,\n",
       " 85000,\n",
       " 76000,\n",
       " 83000,\n",
       " 83000,\n",
       " 86000,\n",
       " 77000,\n",
       " 83000,\n",
       " 84000,\n",
       " 85000,\n",
       " 84000,\n",
       " 85000,\n",
       " 85000,\n",
       " 71000,\n",
       " 83000,\n",
       " 88000,\n",
       " 90000,\n",
       " 92000,\n",
       " 94000,\n",
       " 91000,\n",
       " 84000,\n",
       " 96000,\n",
       " 99000,\n",
       " 100000,\n",
       " 102000,\n",
       " 103000,\n",
       " 99000,\n",
       " 91000,\n",
       " 100000,\n",
       " 104000,\n",
       " 106000,\n",
       " 106000,\n",
       " 98000,\n",
       " 85000,\n",
       " 76000,\n",
       " 82000,\n",
       " 80000,\n",
       " 75000,\n",
       " 85000,\n",
       " 91000,\n",
       " 89000,\n",
       " 82000,\n",
       " 82000,\n",
       " 82000,\n",
       " 82000,\n",
       " 82000,\n",
       " 88000,\n",
       " 84000,\n",
       " 84000,\n",
       " 87000,\n",
       " 89000,\n",
       " 89000,\n",
       " 88000,\n",
       " 91000,\n",
       " 87000,\n",
       " 78000,\n",
       " 78000,\n",
       " 81000,\n",
       " 81000,\n",
       " 93000,\n",
       " 97000,\n",
       " 97000,\n",
       " 83000,\n",
       " 83000,\n",
       " 81000,\n",
       " 86000,\n",
       " 89000,\n",
       " 90000,\n",
       " 87000,\n",
       " 80000,\n",
       " 91000,\n",
       " 98000,\n",
       " 100000,\n",
       " 101000,\n",
       " 98000,\n",
       " 91000,\n",
       " 79000,\n",
       " 93000,\n",
       " 95000,\n",
       " 98000,\n",
       " 100000,\n",
       " 102000,\n",
       " 100000,\n",
       " 90000,\n",
       " 102000,\n",
       " 101000,\n",
       " 98000,\n",
       " 94000,\n",
       " 97000,\n",
       " 95000,\n",
       " 89000,\n",
       " 100000,\n",
       " 102000,\n",
       " 102000,\n",
       " 102000,\n",
       " 105000,\n",
       " 104000,\n",
       " 95000,\n",
       " 106000,\n",
       " 110000,\n",
       " 108000,\n",
       " 108000,\n",
       " 105000,\n",
       " 88000,\n",
       " 74000,\n",
       " 85000,\n",
       " 87000,\n",
       " 87000,\n",
       " 87000,\n",
       " 89000,\n",
       " 87000,\n",
       " 79000,\n",
       " 94000,\n",
       " 96000,\n",
       " 99000,\n",
       " 100000,\n",
       " 102000,\n",
       " 99000,\n",
       " 90000,\n",
       " 95000,\n",
       " 99000,\n",
       " 100000,\n",
       " 103000,\n",
       " 104000,\n",
       " 102000]"
      ]
     },
     "execution_count": 35,
     "metadata": {},
     "output_type": "execute_result"
    }
   ],
   "source": [
    "original_consumption"
   ]
  },
  {
   "cell_type": "code",
   "execution_count": 41,
   "id": "af84fbc1",
   "metadata": {},
   "outputs": [],
   "source": [
    "mean_value = dataset['Daily Elec Consumption in Bangalore And nearby regions'].mean()"
   ]
  },
  {
   "cell_type": "code",
   "execution_count": 42,
   "id": "46eccb9f",
   "metadata": {},
   "outputs": [],
   "source": [
    "deviation_square = []\n",
    "for con in original_consumption:\n",
    "    dev = con-mean_value\n",
    "    deviation_square.append(dev*dev)"
   ]
  },
  {
   "cell_type": "code",
   "execution_count": 43,
   "id": "6e066c4c",
   "metadata": {},
   "outputs": [
    {
     "data": {
      "text/plain": [
       "[19191600.675548907,\n",
       " 19191600.675548907,\n",
       " 6860093.826233801,\n",
       " 21336806.155000914,\n",
       " 43813518.48376802,\n",
       " 43813518.48376802,\n",
       " 58051874.648151584,\n",
       " 21336806.155000914,\n",
       " 1906669.1686995756,\n",
       " 31575162.31938447,\n",
       " 58051874.648151584,\n",
       " 58051874.648151584,\n",
       " 58051874.648151584,\n",
       " 58051874.648151584,\n",
       " 383381.49746668845,\n",
       " 1906669.1686995756,\n",
       " 31575162.31938447,\n",
       " 43813518.48376802,\n",
       " 58051874.648151584,\n",
       " 74290230.81253514,\n",
       " 92528586.9769187,\n",
       " 74290230.81253514,\n",
       " 383381.49746668845,\n",
       " 74290230.81253514,\n",
       " 135005299.30568582,\n",
       " 13098449.990617357,\n",
       " 43813518.48376802,\n",
       " 112766943.14130226,\n",
       " 74290230.81253514,\n",
       " 13098449.990617357,\n",
       " 92528586.9769187,\n",
       " 135005299.30568582,\n",
       " 135005299.30568582,\n",
       " 185482011.6344529,\n",
       " 185482011.6344529,\n",
       " 185482011.6344529,\n",
       " 58051874.648151584,\n",
       " 213720367.79883647,\n",
       " 276197080.1276036,\n",
       " 276197080.1276036,\n",
       " 276197080.1276036,\n",
       " 213720367.79883647,\n",
       " 243958723.96322003,\n",
       " 92528586.9769187,\n",
       " 243958723.96322003,\n",
       " 310435436.2919871,\n",
       " 310435436.2919871,\n",
       " 243958723.96322003,\n",
       " 310435436.2919871,\n",
       " 243958723.96322003,\n",
       " 74290230.81253514,\n",
       " 243958723.96322003,\n",
       " 425150504.78513783,\n",
       " 425150504.78513783,\n",
       " 467388860.94952136,\n",
       " 467388860.94952136,\n",
       " 384912148.62075424,\n",
       " 159243655.47006938,\n",
       " 346673792.4563707,\n",
       " 384912148.62075424,\n",
       " 425150504.78513783,\n",
       " 276197080.1276036,\n",
       " 276197080.1276036,\n",
       " 310435436.2919871,\n",
       " 58051874.648151584,\n",
       " 310435436.2919871,\n",
       " 384912148.62075424,\n",
       " 557865573.2782885,\n",
       " 511627217.11390495,\n",
       " 557865573.2782885,\n",
       " 467388860.94952136,\n",
       " 135005299.30568582,\n",
       " 511627217.11390495,\n",
       " 708580641.7714392,\n",
       " 656342285.6070555,\n",
       " 819057354.1002063,\n",
       " 557865573.2782885,\n",
       " 467388860.94952136,\n",
       " 92528586.9769187,\n",
       " 346673792.4563707,\n",
       " 185482011.6344529,\n",
       " 346673792.4563707,\n",
       " 276197080.1276036,\n",
       " 384912148.62075424,\n",
       " 346673792.4563707,\n",
       " 112766943.14130226,\n",
       " 425150504.78513783,\n",
       " 557865573.2782885,\n",
       " 819057354.1002063,\n",
       " 762818997.9358227,\n",
       " 762818997.9358227,\n",
       " 159243655.47006938,\n",
       " 74290230.81253514,\n",
       " 606103929.442672,\n",
       " 708580641.7714392,\n",
       " 708580641.7714392,\n",
       " 819057354.1002063,\n",
       " 1064010778.7577405,\n",
       " 819057354.1002063,\n",
       " 425150504.78513783,\n",
       " 762818997.9358227,\n",
       " 877295710.2645898,\n",
       " 606103929.442672,\n",
       " 135005299.30568582,\n",
       " 1906669.1686995756,\n",
       " 6860093.826233801,\n",
       " 6860093.826233801,\n",
       " 1906669.1686995756,\n",
       " 1906669.1686995756,\n",
       " 5668313.004316019,\n",
       " 31575162.31938447,\n",
       " 92528586.9769187,\n",
       " 74290230.81253514,\n",
       " 74290230.81253514,\n",
       " 243958723.96322003,\n",
       " 243958723.96322003,\n",
       " 384912148.62075424,\n",
       " 511627217.11390495,\n",
       " 276197080.1276036,\n",
       " 185482011.6344529,\n",
       " 185482011.6344529,\n",
       " 135005299.30568582,\n",
       " 135005299.30568582,\n",
       " 21336806.155000914,\n",
       " 21336806.155000914,\n",
       " 11429956.839932462,\n",
       " 40714888.34678179,\n",
       " 40714888.34678179,\n",
       " 40714888.34678179,\n",
       " 107761463.68924756,\n",
       " 107761463.68924756,\n",
       " 153284751.36048046,\n",
       " 70238176.01801468,\n",
       " 70238176.01801468,\n",
       " 337854614.3741791,\n",
       " 337854614.3741791,\n",
       " 153284751.36048046,\n",
       " 268331326.70294622,\n",
       " 236569682.86732978,\n",
       " 268331326.70294622,\n",
       " 302092970.53856266,\n",
       " 644186121.2234942,\n",
       " 107761463.68924756,\n",
       " 11429956.839932462,\n",
       " 145025.33308313202,\n",
       " 383381.49746668845,\n",
       " 1906669.1686995756,\n",
       " 1906669.1686995756,\n",
       " 40714888.34678179,\n",
       " 58051874.648151584,\n",
       " 58051874.648151584,\n",
       " 58051874.648151584,\n",
       " 58051874.648151584,\n",
       " 58051874.648151584,\n",
       " 1906669.1686995756,\n",
       " 129523107.52486402,\n",
       " 87999819.85363112,\n",
       " 19191600.675548907,\n",
       " 1906669.1686995756,\n",
       " 2621737.6618502447,\n",
       " 31575162.31938447,\n",
       " 13098449.990617357,\n",
       " 11429956.839932462,\n",
       " 13098449.990617357,\n",
       " 58051874.648151584,\n",
       " 5668313.004316019,\n",
       " 1906669.1686995756,\n",
       " 40714888.34678179,\n",
       " 107761463.68924756,\n",
       " 375616258.20979553,\n",
       " 87999819.85363112,\n",
       " 70238176.01801468,\n",
       " 70238176.01801468,\n",
       " 28953244.51116535,\n",
       " 5668313.004316019,\n",
       " 40714888.34678179,\n",
       " 236569682.86732978,\n",
       " 1906669.1686995756,\n",
       " 13098449.990617357,\n",
       " 31575162.31938447,\n",
       " 13098449.990617357,\n",
       " 145025.33308313202,\n",
       " 28953244.51116535,\n",
       " 179046395.1960969,\n",
       " 28953244.51116535,\n",
       " 40714888.34678179,\n",
       " 70238176.01801468,\n",
       " 129523107.52486402,\n",
       " 87999819.85363112,\n",
       " 206808039.03171334,\n",
       " 457139545.8810285,\n",
       " 179046395.1960969,\n",
       " 129523107.52486402,\n",
       " 107761463.68924756,\n",
       " 107761463.68924756,\n",
       " 87999819.85363112,\n",
       " 153284751.36048046,\n",
       " 546662833.5522614,\n",
       " 179046395.1960969,\n",
       " 70238176.01801468,\n",
       " 28953244.51116535,\n",
       " 40714888.34678179,\n",
       " 11429956.839932462,\n",
       " 40714888.34678179,\n",
       " 302092970.53856266,\n",
       " 19191600.675548907,\n",
       " 145025.33308313202,\n",
       " 5668313.004316019,\n",
       " 54476532.18239824,\n",
       " 28953244.51116535,\n",
       " 87999819.85363112,\n",
       " 500901189.7166449,\n",
       " 179046395.1960969,\n",
       " 236569682.86732978,\n",
       " 179046395.1960969,\n",
       " 153284751.36048046,\n",
       " 129523107.52486402,\n",
       " 302092970.53856266,\n",
       " 695947765.0591106,\n",
       " 302092970.53856266,\n",
       " 268331326.70294622,\n",
       " 179046395.1960969,\n",
       " 129523107.52486402,\n",
       " 87999819.85363112,\n",
       " 107761463.68924756,\n",
       " 302092970.53856266,\n",
       " 337854614.3741791,\n",
       " 11429956.839932462,\n",
       " 2621737.6618502447,\n",
       " 6860093.826233801,\n",
       " 21336806.155000914,\n",
       " 6860093.826233801,\n",
       " 107761463.68924756,\n",
       " 5668313.004316019,\n",
       " 145025.33308313202,\n",
       " 383381.49746668845,\n",
       " 5668313.004316019,\n",
       " 28953244.51116535,\n",
       " 179046395.1960969,\n",
       " 457139545.8810285,\n",
       " 153284751.36048046,\n",
       " 179046395.1960969,\n",
       " 500901189.7166449,\n",
       " 236569682.86732978,\n",
       " 236569682.86732978,\n",
       " 153284751.36048046,\n",
       " 457139545.8810285,\n",
       " 236569682.86732978,\n",
       " 206808039.03171334,\n",
       " 179046395.1960969,\n",
       " 206808039.03171334,\n",
       " 179046395.1960969,\n",
       " 179046395.1960969,\n",
       " 749709408.8947271,\n",
       " 236569682.86732978,\n",
       " 107761463.68924756,\n",
       " 70238176.01801468,\n",
       " 40714888.34678179,\n",
       " 19191600.675548907,\n",
       " 54476532.18239824,\n",
       " 206808039.03171334,\n",
       " 5668313.004316019,\n",
       " 383381.49746668845,\n",
       " 2621737.6618502447,\n",
       " 13098449.990617357,\n",
       " 21336806.155000914,\n",
       " 383381.49746668845,\n",
       " 54476532.18239824,\n",
       " 2621737.6618502447,\n",
       " 31575162.31938447,\n",
       " 58051874.648151584,\n",
       " 58051874.648151584,\n",
       " 145025.33308313202,\n",
       " 179046395.1960969,\n",
       " 500901189.7166449,\n",
       " 268331326.70294622,\n",
       " 337854614.3741791,\n",
       " 546662833.5522614,\n",
       " 179046395.1960969,\n",
       " 54476532.18239824,\n",
       " 87999819.85363112,\n",
       " 268331326.70294622,\n",
       " 268331326.70294622,\n",
       " 268331326.70294622,\n",
       " 268331326.70294622,\n",
       " 268331326.70294622,\n",
       " 107761463.68924756,\n",
       " 206808039.03171334,\n",
       " 206808039.03171334,\n",
       " 129523107.52486402,\n",
       " 87999819.85363112,\n",
       " 87999819.85363112,\n",
       " 107761463.68924756,\n",
       " 54476532.18239824,\n",
       " 129523107.52486402,\n",
       " 415377902.045412,\n",
       " 415377902.045412,\n",
       " 302092970.53856266,\n",
       " 302092970.53856266,\n",
       " 28953244.51116535,\n",
       " 1906669.1686995756,\n",
       " 1906669.1686995756,\n",
       " 236569682.86732978,\n",
       " 236569682.86732978,\n",
       " 302092970.53856266,\n",
       " 153284751.36048046,\n",
       " 87999819.85363112,\n",
       " 70238176.01801468,\n",
       " 129523107.52486402,\n",
       " 337854614.3741791,\n",
       " 54476532.18239824,\n",
       " 145025.33308313202,\n",
       " 2621737.6618502447,\n",
       " 6860093.826233801,\n",
       " 145025.33308313202,\n",
       " 54476532.18239824,\n",
       " 375616258.20979553,\n",
       " 28953244.51116535,\n",
       " 11429956.839932462,\n",
       " 145025.33308313202,\n",
       " 2621737.6618502447,\n",
       " 13098449.990617357,\n",
       " 2621737.6618502447,\n",
       " 70238176.01801468,\n",
       " 13098449.990617357,\n",
       " 6860093.826233801,\n",
       " 145025.33308313202,\n",
       " 19191600.675548907,\n",
       " 1906669.1686995756,\n",
       " 11429956.839932462,\n",
       " 87999819.85363112,\n",
       " 2621737.6618502447,\n",
       " 13098449.990617357,\n",
       " 13098449.990617357,\n",
       " 13098449.990617357,\n",
       " 43813518.48376802,\n",
       " 31575162.31938447,\n",
       " 11429956.839932462,\n",
       " 58051874.648151584,\n",
       " 135005299.30568582,\n",
       " 92528586.9769187,\n",
       " 92528586.9769187,\n",
       " 43813518.48376802,\n",
       " 107761463.68924756,\n",
       " 594424477.3878778,\n",
       " 179046395.1960969,\n",
       " 129523107.52486402,\n",
       " 129523107.52486402,\n",
       " 129523107.52486402,\n",
       " 87999819.85363112,\n",
       " 129523107.52486402,\n",
       " 375616258.20979553,\n",
       " 19191600.675548907,\n",
       " 5668313.004316019,\n",
       " 383381.49746668845,\n",
       " 2621737.6618502447,\n",
       " 13098449.990617357,\n",
       " 383381.49746668845,\n",
       " 70238176.01801468,\n",
       " 11429956.839932462,\n",
       " 383381.49746668845,\n",
       " 2621737.6618502447,\n",
       " 21336806.155000914,\n",
       " 31575162.31938447,\n",
       " 13098449.990617357]"
      ]
     },
     "execution_count": 43,
     "metadata": {},
     "output_type": "execute_result"
    }
   ],
   "source": [
    "deviation_square"
   ]
  },
  {
   "cell_type": "code",
   "execution_count": 44,
   "id": "3321da94",
   "metadata": {},
   "outputs": [],
   "source": [
    "dataset['Dev_sqr'] = deviation_square"
   ]
  },
  {
   "cell_type": "code",
   "execution_count": 45,
   "id": "f9c2d359",
   "metadata": {},
   "outputs": [
    {
     "data": {
      "text/html": [
       "<div>\n",
       "<style scoped>\n",
       "    .dataframe tbody tr th:only-of-type {\n",
       "        vertical-align: middle;\n",
       "    }\n",
       "\n",
       "    .dataframe tbody tr th {\n",
       "        vertical-align: top;\n",
       "    }\n",
       "\n",
       "    .dataframe thead th {\n",
       "        text-align: right;\n",
       "    }\n",
       "</style>\n",
       "<table border=\"1\" class=\"dataframe\">\n",
       "  <thead>\n",
       "    <tr style=\"text-align: right;\">\n",
       "      <th></th>\n",
       "      <th>Day</th>\n",
       "      <th>Daily Elec Consumption in Bangalore And nearby regions</th>\n",
       "      <th>Dev_sqr</th>\n",
       "    </tr>\n",
       "  </thead>\n",
       "  <tbody>\n",
       "    <tr>\n",
       "      <th>0</th>\n",
       "      <td>1</td>\n",
       "      <td>94000</td>\n",
       "      <td>1.919160e+07</td>\n",
       "    </tr>\n",
       "    <tr>\n",
       "      <th>1</th>\n",
       "      <td>2</td>\n",
       "      <td>94000</td>\n",
       "      <td>1.919160e+07</td>\n",
       "    </tr>\n",
       "    <tr>\n",
       "      <th>2</th>\n",
       "      <td>3</td>\n",
       "      <td>101000</td>\n",
       "      <td>6.860094e+06</td>\n",
       "    </tr>\n",
       "    <tr>\n",
       "      <th>3</th>\n",
       "      <td>4</td>\n",
       "      <td>103000</td>\n",
       "      <td>2.133681e+07</td>\n",
       "    </tr>\n",
       "    <tr>\n",
       "      <th>4</th>\n",
       "      <td>5</td>\n",
       "      <td>105000</td>\n",
       "      <td>4.381352e+07</td>\n",
       "    </tr>\n",
       "  </tbody>\n",
       "</table>\n",
       "</div>"
      ],
      "text/plain": [
       "   Day  Daily Elec Consumption in Bangalore And nearby regions       Dev_sqr\n",
       "0    1                                              94000       1.919160e+07\n",
       "1    2                                              94000       1.919160e+07\n",
       "2    3                                             101000       6.860094e+06\n",
       "3    4                                             103000       2.133681e+07\n",
       "4    5                                             105000       4.381352e+07"
      ]
     },
     "execution_count": 45,
     "metadata": {},
     "output_type": "execute_result"
    }
   ],
   "source": [
    "dataset.head(5)"
   ]
  },
  {
   "cell_type": "code",
   "execution_count": 46,
   "id": "d51c63ba",
   "metadata": {},
   "outputs": [
    {
     "data": {
      "text/plain": [
       "<matplotlib.collections.PathCollection at 0x1d53dccf7c0>"
      ]
     },
     "execution_count": 46,
     "metadata": {},
     "output_type": "execute_result"
    },
    {
     "data": {
      "image/png": "[encoded data removed]",
      "text/plain": [
       "<Figure size 432x288 with 1 Axes>"
      ]
     },
     "metadata": {
      "needs_background": "light"
     },
     "output_type": "display_data"
    }
   ],
   "source": [
    "plt.scatter(dataset['Dev_sqr'],dataset['Daily Elec Consumption in Bangalore And nearby regions'])"
   ]
  },
  {
   "cell_type": "code",
   "execution_count": 47,
   "id": "fde1e0bb",
   "metadata": {},
   "outputs": [
    {
     "data": {
      "text/plain": [
       "[<matplotlib.lines.Line2D at 0x1d5449c4220>]"
      ]
     },
     "execution_count": 47,
     "metadata": {},
     "output_type": "execute_result"
    },
    {
     "data": {
      "image/png": "[encoded data removed]",
      "text/plain": [
       "<Figure size 432x288 with 1 Axes>"
      ]
     },
     "metadata": {
      "needs_background": "light"
     },
     "output_type": "display_data"
    }
   ],
   "source": [
    "plt.plot(dataset['Dev_sqr'],dataset['Daily Elec Consumption in Bangalore And nearby regions'])"
   ]
  },
  {
   "cell_type": "code",
   "execution_count": 56,
   "id": "f9c5c903",
   "metadata": {},
   "outputs": [
    {
     "name": "stdout",
     "output_type": "stream",
     "text": [
      "365\n"
     ]
    }
   ],
   "source": [
    "dev_sqr_data = dataset['Dev_sqr'].tolist()\n",
    "rate_of_dev = []\n",
    "for i in range(len(dev_sqr_data)):\n",
    "    rate_of_dev.append(dev_sqr_data[i]/original_consumption[i])\n",
    "print(len(rate_of_dev))"
   ]
  },
  {
   "cell_type": "code",
   "execution_count": 57,
   "id": "3a87e5e5",
   "metadata": {},
   "outputs": [],
   "source": [
    "dataset['Rate of deviation'] = rate_of_dev"
   ]
  },
  {
   "cell_type": "code",
   "execution_count": 58,
   "id": "fd336e47",
   "metadata": {},
   "outputs": [
    {
     "data": {
      "text/html": [
       "<div>\n",
       "<style scoped>\n",
       "    .dataframe tbody tr th:only-of-type {\n",
       "        vertical-align: middle;\n",
       "    }\n",
       "\n",
       "    .dataframe tbody tr th {\n",
       "        vertical-align: top;\n",
       "    }\n",
       "\n",
       "    .dataframe thead th {\n",
       "        text-align: right;\n",
       "    }\n",
       "</style>\n",
       "<table border=\"1\" class=\"dataframe\">\n",
       "  <thead>\n",
       "    <tr style=\"text-align: right;\">\n",
       "      <th></th>\n",
       "      <th>Day</th>\n",
       "      <th>Daily Elec Consumption in Bangalore And nearby regions</th>\n",
       "      <th>Dev_sqr</th>\n",
       "      <th>Rate of deviation</th>\n",
       "    </tr>\n",
       "  </thead>\n",
       "  <tbody>\n",
       "    <tr>\n",
       "      <th>0</th>\n",
       "      <td>1</td>\n",
       "      <td>94000</td>\n",
       "      <td>1.919160e+07</td>\n",
       "      <td>204.165965</td>\n",
       "    </tr>\n",
       "    <tr>\n",
       "      <th>1</th>\n",
       "      <td>2</td>\n",
       "      <td>94000</td>\n",
       "      <td>1.919160e+07</td>\n",
       "      <td>204.165965</td>\n",
       "    </tr>\n",
       "    <tr>\n",
       "      <th>2</th>\n",
       "      <td>3</td>\n",
       "      <td>101000</td>\n",
       "      <td>6.860094e+06</td>\n",
       "      <td>67.921721</td>\n",
       "    </tr>\n",
       "    <tr>\n",
       "      <th>3</th>\n",
       "      <td>4</td>\n",
       "      <td>103000</td>\n",
       "      <td>2.133681e+07</td>\n",
       "      <td>207.153458</td>\n",
       "    </tr>\n",
       "    <tr>\n",
       "      <th>4</th>\n",
       "      <td>5</td>\n",
       "      <td>105000</td>\n",
       "      <td>4.381352e+07</td>\n",
       "      <td>417.271605</td>\n",
       "    </tr>\n",
       "  </tbody>\n",
       "</table>\n",
       "</div>"
      ],
      "text/plain": [
       "   Day  Daily Elec Consumption in Bangalore And nearby regions       Dev_sqr   \n",
       "0    1                                              94000       1.919160e+07  \\\n",
       "1    2                                              94000       1.919160e+07   \n",
       "2    3                                             101000       6.860094e+06   \n",
       "3    4                                             103000       2.133681e+07   \n",
       "4    5                                             105000       4.381352e+07   \n",
       "\n",
       "   Rate of deviation  \n",
       "0         204.165965  \n",
       "1         204.165965  \n",
       "2          67.921721  \n",
       "3         207.153458  \n",
       "4         417.271605  "
      ]
     },
     "execution_count": 58,
     "metadata": {},
     "output_type": "execute_result"
    }
   ],
   "source": [
    "dataset.head(5)"
   ]
  },
  {
   "cell_type": "code",
   "execution_count": 59,
   "id": "0b951c61",
   "metadata": {},
   "outputs": [
    {
     "data": {
      "text/plain": [
       "[<matplotlib.lines.Line2D at 0x1d544eccac0>]"
      ]
     },
     "execution_count": 59,
     "metadata": {},
     "output_type": "execute_result"
    },
    {
     "data": {
      "image/png": "[encoded data removed]",
      "text/plain": [
       "<Figure size 432x288 with 1 Axes>"
      ]
     },
     "metadata": {
      "needs_background": "light"
     },
     "output_type": "display_data"
    }
   ],
   "source": [
    "plt.plot(dataset['Rate of deviation'],dataset['Daily Elec Consumption in Bangalore And nearby regions'])"
   ]
  },
  {
   "cell_type": "code",
   "execution_count": 60,
   "id": "f2e30735",
   "metadata": {},
   "outputs": [],
   "source": [
    "corelation_matrix = dataset.corr()"
   ]
  },
  {
   "cell_type": "code",
   "execution_count": 61,
   "id": "19666535",
   "metadata": {},
   "outputs": [
    {
     "data": {
      "text/html": [
       "<div>\n",
       "<style scoped>\n",
       "    .dataframe tbody tr th:only-of-type {\n",
       "        vertical-align: middle;\n",
       "    }\n",
       "\n",
       "    .dataframe tbody tr th {\n",
       "        vertical-align: top;\n",
       "    }\n",
       "\n",
       "    .dataframe thead th {\n",
       "        text-align: right;\n",
       "    }\n",
       "</style>\n",
       "<table border=\"1\" class=\"dataframe\">\n",
       "  <thead>\n",
       "    <tr style=\"text-align: right;\">\n",
       "      <th></th>\n",
       "      <th>Day</th>\n",
       "      <th>Daily Elec Consumption in Bangalore And nearby regions</th>\n",
       "      <th>Dev_sqr</th>\n",
       "      <th>Rate of deviation</th>\n",
       "    </tr>\n",
       "  </thead>\n",
       "  <tbody>\n",
       "    <tr>\n",
       "      <th>Day</th>\n",
       "      <td>1.000000</td>\n",
       "      <td>-0.566916</td>\n",
       "      <td>-0.234329</td>\n",
       "      <td>-0.115386</td>\n",
       "    </tr>\n",
       "    <tr>\n",
       "      <th>Daily Elec Consumption in Bangalore And nearby regions</th>\n",
       "      <td>-0.566916</td>\n",
       "      <td>1.000000</td>\n",
       "      <td>0.262082</td>\n",
       "      <td>0.005847</td>\n",
       "    </tr>\n",
       "    <tr>\n",
       "      <th>Dev_sqr</th>\n",
       "      <td>-0.234329</td>\n",
       "      <td>0.262082</td>\n",
       "      <td>1.000000</td>\n",
       "      <td>0.954786</td>\n",
       "    </tr>\n",
       "    <tr>\n",
       "      <th>Rate of deviation</th>\n",
       "      <td>-0.115386</td>\n",
       "      <td>0.005847</td>\n",
       "      <td>0.954786</td>\n",
       "      <td>1.000000</td>\n",
       "    </tr>\n",
       "  </tbody>\n",
       "</table>\n",
       "</div>"
      ],
      "text/plain": [
       "                                                         Day   \n",
       "Day                                                 1.000000  \\\n",
       "Daily Elec Consumption in Bangalore And nearby ... -0.566916   \n",
       "Dev_sqr                                            -0.234329   \n",
       "Rate of deviation                                  -0.115386   \n",
       "\n",
       "                                                    Daily Elec Consumption in Bangalore And nearby regions   \n",
       "Day                                                                                         -0.566916       \\\n",
       "Daily Elec Consumption in Bangalore And nearby ...                                           1.000000        \n",
       "Dev_sqr                                                                                      0.262082        \n",
       "Rate of deviation                                                                            0.005847        \n",
       "\n",
       "                                                     Dev_sqr   \n",
       "Day                                                -0.234329  \\\n",
       "Daily Elec Consumption in Bangalore And nearby ...  0.262082   \n",
       "Dev_sqr                                             1.000000   \n",
       "Rate of deviation                                   0.954786   \n",
       "\n",
       "                                                    Rate of deviation  \n",
       "Day                                                         -0.115386  \n",
       "Daily Elec Consumption in Bangalore And nearby ...           0.005847  \n",
       "Dev_sqr                                                      0.954786  \n",
       "Rate of deviation                                            1.000000  "
      ]
     },
     "execution_count": 61,
     "metadata": {},
     "output_type": "execute_result"
    }
   ],
   "source": [
    "corelation_matrix"
   ]
  },
  {
   "cell_type": "code",
   "execution_count": 62,
   "id": "16fd0311",
   "metadata": {},
   "outputs": [
    {
     "data": {
      "text/plain": [
       "[<matplotlib.lines.Line2D at 0x1d5451d14b0>]"
      ]
     },
     "execution_count": 62,
     "metadata": {},
     "output_type": "execute_result"
    },
    {
     "data": {
      "image/png": "[encoded data removed]",
      "text/plain": [
       "<Figure size 432x288 with 1 Axes>"
      ]
     },
     "metadata": {
      "needs_background": "light"
     },
     "output_type": "display_data"
    }
   ],
   "source": [
    "plt.plot(dataset['Dev_sqr'],dataset['Daily Elec Consumption in Bangalore And nearby regions'])"
   ]
  },
  {
   "cell_type": "code",
   "execution_count": 63,
   "id": "cb20b17c",
   "metadata": {},
   "outputs": [
    {
     "data": {
      "text/plain": [
       "[<matplotlib.lines.Line2D at 0x1d545242c80>]"
      ]
     },
     "execution_count": 63,
     "metadata": {},
     "output_type": "execute_result"
    },
    {
     "data": {
      "image/png": "[encoded data removed]",
      "text/plain": [
       "<Figure size 432x288 with 1 Axes>"
      ]
     },
     "metadata": {
      "needs_background": "light"
     },
     "output_type": "display_data"
    }
   ],
   "source": [
    "plt.plot(dataset['Daily Elec Consumption in Bangalore And nearby regions'],dataset['Dev_sqr'])"
   ]
  },
  {
   "cell_type": "code",
   "execution_count": 64,
   "id": "20d802ba",
   "metadata": {},
   "outputs": [
    {
     "data": {
      "text/plain": [
       "<matplotlib.collections.PathCollection at 0x1d544ee3a90>"
      ]
     },
     "execution_count": 64,
     "metadata": {},
     "output_type": "execute_result"
    },
    {
     "data": {
      "image/png": "[encoded data removed]",
      "text/plain": [
       "<Figure size 432x288 with 1 Axes>"
      ]
     },
     "metadata": {
      "needs_background": "light"
     },
     "output_type": "display_data"
    }
   ],
   "source": [
    "plt.scatter(dataset['Daily Elec Consumption in Bangalore And nearby regions'],dataset['Dev_sqr'])"
   ]
  },
  {
   "cell_type": "code",
   "execution_count": 65,
   "id": "8c9a09c9",
   "metadata": {},
   "outputs": [
    {
     "data": {
      "text/plain": [
       "Day                                                       1.830000e+02\n",
       "Daily Elec Consumption in Bangalore And nearby regions    9.838082e+04\n",
       "Dev_sqr                                                   1.701426e+08\n",
       "Rate of deviation                                         1.727931e+03\n",
       "dtype: float64"
      ]
     },
     "execution_count": 65,
     "metadata": {},
     "output_type": "execute_result"
    }
   ],
   "source": [
    "dataset.mean()"
   ]
  },
  {
   "cell_type": "code",
   "execution_count": 91,
   "id": "de952b47",
   "metadata": {},
   "outputs": [],
   "source": [
    "def objective(x, a, b, c):\n",
    " return a * float(x) + b * float(x**2) + c"
   ]
  },
  {
   "cell_type": "code",
   "execution_count": 68,
   "id": "ca34134e",
   "metadata": {},
   "outputs": [],
   "source": [
    "popt,_=curve_fit(objective,dataset['Daily Elec Consumption in Bangalore And nearby regions'],dataset['Dev_sqr'])"
   ]
  },
  {
   "cell_type": "code",
   "execution_count": 69,
   "id": "2744eb9b",
   "metadata": {},
   "outputs": [
    {
     "data": {
      "text/plain": [
       "array([-2.52964940e+03,  4.21922886e-02,  1.00000000e+00])"
      ]
     },
     "execution_count": 69,
     "metadata": {},
     "output_type": "execute_result"
    }
   ],
   "source": [
    "popt"
   ]
  },
  {
   "cell_type": "code",
   "execution_count": 78,
   "id": "1292d0dc",
   "metadata": {},
   "outputs": [
    {
     "name": "stdout",
     "output_type": "stream",
     "text": [
      "-2529.649395709408 0.04219228860079827 1.0\n"
     ]
    }
   ],
   "source": [
    "a,b,c=popt\n",
    "print(a,b,c)"
   ]
  },
  {
   "cell_type": "code",
   "execution_count": 80,
   "id": "dc071147",
   "metadata": {},
   "outputs": [
    {
     "data": {
      "text/plain": [
       "[<matplotlib.lines.Line2D at 0x1d556a60b20>]"
      ]
     },
     "execution_count": 80,
     "metadata": {},
     "output_type": "execute_result"
    },
    {
     "data": {
      "image/png": "[encoded data removed]",
      "text/plain": [
       "<Figure size 432x288 with 1 Axes>"
      ]
     },
     "metadata": {
      "needs_background": "light"
     },
     "output_type": "display_data"
    }
   ],
   "source": [
    "plt.scatter(dataset['Daily Elec Consumption in Bangalore And nearby regions'],dataset['Dev_sqr'])\n",
    "plt.plot(dataset['Daily Elec Consumption in Bangalore And nearby regions'],objective(dataset['Daily Elec Consumption in Bangalore And nearby regions'],a,b,c),color='red')"
   ]
  },
  {
   "cell_type": "code",
   "execution_count": 85,
   "id": "6adc9dcd",
   "metadata": {},
   "outputs": [
    {
     "name": "stdout",
     "output_type": "stream",
     "text": [
      "0      1.350240e+08\n",
      "1      1.350240e+08\n",
      "2      1.749089e+08\n",
      "3      1.870641e+08\n",
      "4      1.995568e+08\n",
      "           ...     \n",
      "360    1.630913e+08\n",
      "361    1.689579e+08\n",
      "362    1.870641e+08\n",
      "363    1.932683e+08\n",
      "364    1.809443e+08\n",
      "Name: Daily Elec Consumption in Bangalore And nearby regions, Length: 365, dtype: float64\n"
     ]
    }
   ],
   "source": [
    "print(objective(dataset['Daily Elec Consumption in Bangalore And nearby regions'],a,b,c))"
   ]
  },
  {
   "cell_type": "code",
   "execution_count": 81,
   "id": "a49e7432",
   "metadata": {},
   "outputs": [
    {
     "data": {
      "text/html": [
       "<div>\n",
       "<style scoped>\n",
       "    .dataframe tbody tr th:only-of-type {\n",
       "        vertical-align: middle;\n",
       "    }\n",
       "\n",
       "    .dataframe tbody tr th {\n",
       "        vertical-align: top;\n",
       "    }\n",
       "\n",
       "    .dataframe thead th {\n",
       "        text-align: right;\n",
       "    }\n",
       "</style>\n",
       "<table border=\"1\" class=\"dataframe\">\n",
       "  <thead>\n",
       "    <tr style=\"text-align: right;\">\n",
       "      <th></th>\n",
       "      <th>Day</th>\n",
       "      <th>Daily Elec Consumption in Bangalore And nearby regions</th>\n",
       "      <th>Dev_sqr</th>\n",
       "      <th>Rate of deviation</th>\n",
       "    </tr>\n",
       "  </thead>\n",
       "  <tbody>\n",
       "    <tr>\n",
       "      <th>360</th>\n",
       "      <td>361</td>\n",
       "      <td>99000</td>\n",
       "      <td>3.833815e+05</td>\n",
       "      <td>3.872540</td>\n",
       "    </tr>\n",
       "    <tr>\n",
       "      <th>361</th>\n",
       "      <td>362</td>\n",
       "      <td>100000</td>\n",
       "      <td>2.621738e+06</td>\n",
       "      <td>26.217377</td>\n",
       "    </tr>\n",
       "    <tr>\n",
       "      <th>362</th>\n",
       "      <td>363</td>\n",
       "      <td>103000</td>\n",
       "      <td>2.133681e+07</td>\n",
       "      <td>207.153458</td>\n",
       "    </tr>\n",
       "    <tr>\n",
       "      <th>363</th>\n",
       "      <td>364</td>\n",
       "      <td>104000</td>\n",
       "      <td>3.157516e+07</td>\n",
       "      <td>303.607330</td>\n",
       "    </tr>\n",
       "    <tr>\n",
       "      <th>364</th>\n",
       "      <td>365</td>\n",
       "      <td>102000</td>\n",
       "      <td>1.309845e+07</td>\n",
       "      <td>128.416176</td>\n",
       "    </tr>\n",
       "  </tbody>\n",
       "</table>\n",
       "</div>"
      ],
      "text/plain": [
       "     Day  Daily Elec Consumption in Bangalore And nearby regions   \n",
       "360  361                                              99000       \\\n",
       "361  362                                             100000        \n",
       "362  363                                             103000        \n",
       "363  364                                             104000        \n",
       "364  365                                             102000        \n",
       "\n",
       "          Dev_sqr  Rate of deviation  \n",
       "360  3.833815e+05           3.872540  \n",
       "361  2.621738e+06          26.217377  \n",
       "362  2.133681e+07         207.153458  \n",
       "363  3.157516e+07         303.607330  \n",
       "364  1.309845e+07         128.416176  "
      ]
     },
     "execution_count": 81,
     "metadata": {},
     "output_type": "execute_result"
    }
   ],
   "source": [
    "dataset.tail(5)"
   ]
  },
  {
   "cell_type": "code",
   "execution_count": 92,
   "id": "557a1039",
   "metadata": {},
   "outputs": [
    {
     "ename": "TypeError",
     "evalue": "float() argument must be a string or a real number, not 'list'",
     "output_type": "error",
     "traceback": [
      "\u001b[1;31m---------------------------------------------------------------------------\u001b[0m",
      "\u001b[1;31mTypeError\u001b[0m                                 Traceback (most recent call last)",
      "Input \u001b[1;32mIn [92]\u001b[0m, in \u001b[0;36m<cell line: 1>\u001b[1;34m()\u001b[0m\n\u001b[1;32m----> 1\u001b[0m pred\u001b[38;5;241m=\u001b[39m\u001b[43mobjective\u001b[49m\u001b[43m(\u001b[49m\u001b[43mdataset\u001b[49m\u001b[43m[\u001b[49m\u001b[38;5;124;43m'\u001b[39;49m\u001b[38;5;124;43mDaily Elec Consumption in Bangalore And nearby regions\u001b[39;49m\u001b[38;5;124;43m'\u001b[39;49m\u001b[43m]\u001b[49m\u001b[38;5;241;43m.\u001b[39;49m\u001b[43mtolist\u001b[49m\u001b[43m(\u001b[49m\u001b[43m)\u001b[49m\u001b[43m,\u001b[49m\u001b[43ma\u001b[49m\u001b[43m,\u001b[49m\u001b[43mb\u001b[49m\u001b[43m,\u001b[49m\u001b[43mc\u001b[49m\u001b[43m)\u001b[49m\n\u001b[0;32m      2\u001b[0m \u001b[38;5;28mprint\u001b[39m(pred)\n\u001b[0;32m      3\u001b[0m confusion_matrix \u001b[38;5;241m=\u001b[39m metrics\u001b[38;5;241m.\u001b[39mconfusion_matrix(dataset[\u001b[38;5;124m'\u001b[39m\u001b[38;5;124mDev_sqr\u001b[39m\u001b[38;5;124m'\u001b[39m],pred)\n",
      "Input \u001b[1;32mIn [91]\u001b[0m, in \u001b[0;36mobjective\u001b[1;34m(x, a, b, c)\u001b[0m\n\u001b[0;32m      1\u001b[0m \u001b[38;5;28;01mdef\u001b[39;00m \u001b[38;5;21mobjective\u001b[39m(x, a, b, c):\n\u001b[1;32m----> 2\u001b[0m  \u001b[38;5;28;01mreturn\u001b[39;00m a \u001b[38;5;241m*\u001b[39m \u001b[38;5;28;43mfloat\u001b[39;49m\u001b[43m(\u001b[49m\u001b[43mx\u001b[49m\u001b[43m)\u001b[49m \u001b[38;5;241m+\u001b[39m b \u001b[38;5;241m*\u001b[39m \u001b[38;5;28mfloat\u001b[39m(x\u001b[38;5;241m*\u001b[39m\u001b[38;5;241m*\u001b[39m\u001b[38;5;241m2\u001b[39m) \u001b[38;5;241m+\u001b[39m c\n",
      "\u001b[1;31mTypeError\u001b[0m: float() argument must be a string or a real number, not 'list'"
     ]
    }
   ],
   "source": [
    "pred=objective(dataset['Daily Elec Consumption in Bangalore And nearby regions'].tolist(),a,b,c)\n",
    "print(pred)\n",
    "confusion_matrix = metrics.confusion_matrix(dataset['Dev_sqr'],pred)"
   ]
  },
  {
   "cell_type": "code",
   "execution_count": null,
   "id": "30a9657f",
   "metadata": {},
   "outputs": [],
   "source": []
  }
 ],
 "metadata": {
  "kernelspec": {
   "display_name": "Python 3 (ipykernel)",
   "language": "python",
   "name": "python3"
  },
  "language_info": {
   "codemirror_mode": {
    "name": "ipython",
    "version": 3
   },
   "file_extension": ".py",
   "mimetype": "text/x-python",
   "name": "python",
   "nbconvert_exporter": "python",
   "pygments_lexer": "ipython3",
   "version": "3.10.4"
  }
 },
 "nbformat": 4,
 "nbformat_minor": 5
}
